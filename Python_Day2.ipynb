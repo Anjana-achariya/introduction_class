{
  "nbformat": 4,
  "nbformat_minor": 0,
  "metadata": {
    "colab": {
      "provenance": []
    },
    "kernelspec": {
      "name": "python3",
      "display_name": "Python 3"
    },
    "language_info": {
      "name": "python"
    }
  },
  "cells": [
    {
      "cell_type": "markdown",
      "source": [
        "**Loops** are used to repeatedly execute a block of code as long as a certain condition is met."
      ],
      "metadata": {
        "id": "CEHbN0ESt2TV"
      }
    },
    {
      "cell_type": "markdown",
      "source": [
        "* **for loop**: This loop is used to iterate over a sequence (like a list, tuple, dictionary, set, or string) or other iterable objects.\n",
        "\n",
        "* **while loop**: This loop is used to repeatedly execute a block of code as long as a condition is true."
      ],
      "metadata": {
        "id": "bNlwceNbuCN_"
      }
    },
    {
      "cell_type": "code",
      "execution_count": null,
      "metadata": {
        "id": "0fwyIYyq5o-7",
        "colab": {
          "base_uri": "https://localhost:8080/"
        },
        "outputId": "6384f405-8598-4690-d5dc-201d38721b09"
      },
      "outputs": [
        {
          "output_type": "stream",
          "name": "stdout",
          "text": [
            "apple\n",
            "banana\n",
            "cherry\n",
            "1\n",
            "2\n",
            "3\n",
            "4\n",
            "5\n",
            "6\n",
            "abc\n",
            "abc12\n",
            "88.9\n"
          ]
        }
      ],
      "source": [
        "# Example of for loop to iterate over a list\n",
        "fruits = [\"apple\", \"banana\", \"cherry\"]\n",
        "for fruit  in fruits: # for , fruit = each item in fruits (var)\n",
        "    print(fruit) # print(each item)\n",
        "\n",
        "# datatypes = a ,b,c ,0,1,2 ,abc124, 23.4556\n",
        "# \"anjana\" ,\"a\",\"b\", \"123abc\" , \"234\" - string /character\n",
        "# 1,2,3 -integer . -1 ,-2 = signed integer\n",
        "# 23.45 , 3.5 , 78.99999 - float\n",
        "# 12.3456789043 - double\n",
        "# a= [\"anjana\",1 ,\"abc123\",23.45 ] -list ,store different datatype ,modify\n",
        "# b= (\"anjana\",1, \"as34\", 23.56) - tuple , store different datatype , not modifiable\n",
        "\n",
        "\n",
        "a = [1,2,3,4,5,6,\"abc\",\"abc12\", 88.9] #list  ,sequence of values stored inside a list\n",
        "# for loop\n",
        "for i in a: # for - keyword , i = items/ values/ elements , in ,a = variable\n",
        "    print(i)\n",
        "#1st loop = for 1 in a , print 1\n",
        "#2nd loop = for 2 in a , print 2\n",
        "#3rd loop = for 3 in a , print 3\n",
        "#4th loop = for 4 in a , print 4\n",
        "#5th loop = for 5 in a , print 5\n",
        "#6th loop = for 6 in a , print 6\n",
        "#7th loop = for abc in a , print abc\n",
        "#8th loop = for abc12 in a , print abc12\n",
        "#9th loop = for 88.9 in a , print 88.9\n",
        "\n"
      ]
    },
    {
      "cell_type": "code",
      "source": [
        "#a=1 #Variable =value\n",
        "#print(a)"
      ],
      "metadata": {
        "colab": {
          "base_uri": "https://localhost:8080/"
        },
        "id": "M4vwSWoWxqC7",
        "outputId": "63ff4d9c-8606-4c3f-bafb-ac50458f41bf"
      },
      "execution_count": null,
      "outputs": [
        {
          "output_type": "stream",
          "name": "stdout",
          "text": [
            "1\n"
          ]
        }
      ]
    },
    {
      "cell_type": "code",
      "source": [
        "# Example of while loop to print numbers from 1 to 5\n",
        "i = 1 #variable = value\n",
        "while i<=5: # while condition ,1 = <=5\n",
        "    print(i)\n",
        "    i += 1 # i = i+1\n",
        "\n",
        "while True :\n",
        "    print(i)\n",
        "    i += 1\n",
        "    if i > 5:\n",
        "        break\n",
        "#1st loop 1 is printed\n",
        "#2nd loop 2 is printed ,1+1=2\n",
        "#3rd loop 3 is printed ,2+1 =3\n",
        "#4th loop 4 is printed ,3 +1 =4\n",
        "#5th loop 5 is printed ,4 +1 =5\n"
      ],
      "metadata": {
        "colab": {
          "base_uri": "https://localhost:8080/"
        },
        "id": "YhW-Mo8uukzP",
        "outputId": "eeafe07a-073e-4df9-eda2-6073a2a5232d"
      },
      "execution_count": null,
      "outputs": [
        {
          "output_type": "stream",
          "name": "stdout",
          "text": [
            "1\n",
            "2\n",
            "3\n",
            "4\n",
            "5\n",
            "6\n"
          ]
        }
      ]
    },
    {
      "cell_type": "markdown",
      "source": [
        "**Additional Control Statements in Loops**\n",
        "* break: Terminates the loop prematurely.\n",
        "* continue: Skips the rest of the code inside the loop for the current iteration and moves to the next iteration.\n",
        "* else: Can be used with loops to execute a block of code once when the loop condition is no longer true."
      ],
      "metadata": {
        "id": "SlvgMRFLuuPg"
      }
    },
    {
      "cell_type": "code",
      "source": [
        "# Example of break statement\n",
        "for num in range(10):\n",
        "    if num == 5:\n",
        "        break\n",
        "    print(num)\n"
      ],
      "metadata": {
        "colab": {
          "base_uri": "https://localhost:8080/"
        },
        "id": "hCO3FHk_unuS",
        "outputId": "8cf340d3-2680-4adc-d4f9-21bbf7da4502"
      },
      "execution_count": null,
      "outputs": [
        {
          "output_type": "stream",
          "name": "stdout",
          "text": [
            "0\n",
            "1\n",
            "2\n",
            "3\n",
            "4\n"
          ]
        }
      ]
    },
    {
      "cell_type": "code",
      "source": [
        "# Example of continue statement\n",
        "for num in range(5):\n",
        "    if num == 3:\n",
        "        continue\n",
        "    print(num)\n"
      ],
      "metadata": {
        "colab": {
          "base_uri": "https://localhost:8080/"
        },
        "id": "XoILjGbCvkV6",
        "outputId": "481f2aa0-06d6-4b0f-e380-0aaf72b931a7"
      },
      "execution_count": null,
      "outputs": [
        {
          "output_type": "stream",
          "name": "stdout",
          "text": [
            "0\n",
            "1\n",
            "2\n",
            "4\n"
          ]
        }
      ]
    },
    {
      "cell_type": "code",
      "source": [
        "# Example of else with for loop\n",
        "for num in range(5):\n",
        "      print(num)\n",
        "else:\n",
        "    print(\"Loop finished\")\n",
        "\n",
        "# Example of else with while loop\n",
        "i = 1\n",
        "while i < 5:\n",
        "    print(i)\n",
        "    i += 1\n",
        "else:\n",
        "    print(\"Loop finished\")\n"
      ],
      "metadata": {
        "colab": {
          "base_uri": "https://localhost:8080/"
        },
        "id": "WHhfBeq5vqaG",
        "outputId": "299cc1d5-cf3c-4fac-9cb1-456e1c2d2835"
      },
      "execution_count": null,
      "outputs": [
        {
          "output_type": "stream",
          "name": "stdout",
          "text": [
            "1\n",
            "2\n",
            "3\n",
            "4\n",
            "Loop finished\n"
          ]
        }
      ]
    },
    {
      "cell_type": "markdown",
      "source": [
        "**Strings:**\n",
        "\n",
        "\n",
        "In Python, a string is a sequence of characters enclosed within single (') or double (\") quotes."
      ],
      "metadata": {
        "id": "IdOW32nR5xYw"
      }
    },
    {
      "cell_type": "code",
      "source": [
        "my_string = \"Hello, World!\"\n"
      ],
      "metadata": {
        "id": "zr92Hmch56cZ"
      },
      "execution_count": null,
      "outputs": []
    },
    {
      "cell_type": "code",
      "source": [
        "# Strings\n",
        "\n",
        "str1 = 'a'\n",
        "str2 = 'abcdef'"
      ],
      "metadata": {
        "id": "O-lzt2EZCbXQ"
      },
      "execution_count": null,
      "outputs": []
    },
    {
      "cell_type": "code",
      "source": [
        "pattern = \"----ooooo----\"\n",
        "print(pattern*5)"
      ],
      "metadata": {
        "colab": {
          "base_uri": "https://localhost:8080/"
        },
        "id": "EWzxTNIuCpLf",
        "outputId": "e1132190-bf39-4df7-c5fc-5451356ed93a"
      },
      "execution_count": null,
      "outputs": [
        {
          "output_type": "stream",
          "name": "stdout",
          "text": [
            "----ooooo--------ooooo--------ooooo--------ooooo--------ooooo----\n"
          ]
        }
      ]
    },
    {
      "cell_type": "markdown",
      "source": [
        "**String Slicing:**\n",
        "\n",
        "String slicing allows you to access specific characters or substrings within a string using indices."
      ],
      "metadata": {
        "id": "yExwqyqL6UhS"
      }
    },
    {
      "cell_type": "code",
      "source": [
        "# string[start:end:step]\n"
      ],
      "metadata": {
        "id": "NaRccz1a6db2"
      },
      "execution_count": null,
      "outputs": []
    },
    {
      "cell_type": "code",
      "source": [
        "my_string = \"Hello, World!\"\n",
        "print(my_string[0])     # Output: 'H'\n",
        "print(my_string[7:12])  # Output: 'World'\n",
        "print(my_string[::-1])  # Output: '!dlroW ,olleH' (Reverse the string)\n"
      ],
      "metadata": {
        "colab": {
          "base_uri": "https://localhost:8080/"
        },
        "id": "JcV5FB2e6m0s",
        "outputId": "ba0acc41-9e91-4af6-fa6d-eafdcf7b4817"
      },
      "execution_count": null,
      "outputs": [
        {
          "output_type": "stream",
          "name": "stdout",
          "text": [
            "H\n",
            "World\n",
            "!dlroW ,olleH\n"
          ]
        }
      ]
    },
    {
      "cell_type": "code",
      "source": [
        "# String slicing\n",
        "\n",
        "str1 = \"This is a python class\"\n",
        "str1[:3]"
      ],
      "metadata": {
        "colab": {
          "base_uri": "https://localhost:8080/",
          "height": 36
        },
        "id": "f5_h3IDUDMO6",
        "outputId": "343943c2-894b-4d9b-bea3-5931a3f3adff"
      },
      "execution_count": null,
      "outputs": [
        {
          "output_type": "execute_result",
          "data": {
            "text/plain": [
              "'Thi'"
            ],
            "application/vnd.google.colaboratory.intrinsic+json": {
              "type": "string"
            }
          },
          "metadata": {},
          "execution_count": 18
        }
      ]
    },
    {
      "cell_type": "code",
      "source": [
        "str1[3:]"
      ],
      "metadata": {
        "colab": {
          "base_uri": "https://localhost:8080/",
          "height": 36
        },
        "id": "lGNZHlWuDW6r",
        "outputId": "e438b14b-bdcf-49c0-f7d4-4df3b16d4a43"
      },
      "execution_count": null,
      "outputs": [
        {
          "output_type": "execute_result",
          "data": {
            "text/plain": [
              "'s is a python class'"
            ],
            "application/vnd.google.colaboratory.intrinsic+json": {
              "type": "string"
            }
          },
          "metadata": {},
          "execution_count": 10
        }
      ]
    },
    {
      "cell_type": "code",
      "source": [
        "str1[1:11:3]"
      ],
      "metadata": {
        "colab": {
          "base_uri": "https://localhost:8080/",
          "height": 36
        },
        "id": "anj0S4rkDcIH",
        "outputId": "72b263ab-8e21-47b2-98ca-a1f16e0f6d39"
      },
      "execution_count": null,
      "outputs": [
        {
          "output_type": "execute_result",
          "data": {
            "text/plain": [
              "'h_ y'"
            ],
            "application/vnd.google.colaboratory.intrinsic+json": {
              "type": "string"
            }
          },
          "metadata": {},
          "execution_count": 15
        }
      ]
    },
    {
      "cell_type": "code",
      "source": [
        "str1[11:3:-2]"
      ],
      "metadata": {
        "colab": {
          "base_uri": "https://localhost:8080/",
          "height": 36
        },
        "id": "jNtWPKjNEP8J",
        "outputId": "15d83cac-a153-46a2-f01f-cdd61917853e"
      },
      "execution_count": null,
      "outputs": [
        {
          "output_type": "execute_result",
          "data": {
            "text/plain": [
              "'y  i'"
            ],
            "application/vnd.google.colaboratory.intrinsic+json": {
              "type": "string"
            }
          },
          "metadata": {},
          "execution_count": 19
        }
      ]
    },
    {
      "cell_type": "code",
      "source": [
        "str1[:4]"
      ],
      "metadata": {
        "colab": {
          "base_uri": "https://localhost:8080/",
          "height": 36
        },
        "id": "JdMwc8xaGqnW",
        "outputId": "00e1519b-af5c-4306-9ff0-52acad941bc5"
      },
      "execution_count": null,
      "outputs": [
        {
          "output_type": "execute_result",
          "data": {
            "text/plain": [
              "'This'"
            ],
            "application/vnd.google.colaboratory.intrinsic+json": {
              "type": "string"
            }
          },
          "metadata": {},
          "execution_count": 20
        }
      ]
    },
    {
      "cell_type": "code",
      "source": [
        "str1[:]"
      ],
      "metadata": {
        "colab": {
          "base_uri": "https://localhost:8080/",
          "height": 36
        },
        "id": "XCwTctT5Gv12",
        "outputId": "f56f11c4-23d3-45bb-c284-0b44f1d20810"
      },
      "execution_count": null,
      "outputs": [
        {
          "output_type": "execute_result",
          "data": {
            "text/plain": [
              "'This is a python class'"
            ],
            "application/vnd.google.colaboratory.intrinsic+json": {
              "type": "string"
            }
          },
          "metadata": {},
          "execution_count": 21
        }
      ]
    },
    {
      "cell_type": "code",
      "source": [
        "str1[:-3]"
      ],
      "metadata": {
        "colab": {
          "base_uri": "https://localhost:8080/",
          "height": 36
        },
        "id": "MCoW4SSqGzjx",
        "outputId": "dbb97733-5902-4dd6-9b40-691a70227e36"
      },
      "execution_count": null,
      "outputs": [
        {
          "output_type": "execute_result",
          "data": {
            "text/plain": [
              "'This is a python cl'"
            ],
            "application/vnd.google.colaboratory.intrinsic+json": {
              "type": "string"
            }
          },
          "metadata": {},
          "execution_count": 22
        }
      ]
    },
    {
      "cell_type": "code",
      "source": [
        "str1[-11:-3:-2]"
      ],
      "metadata": {
        "colab": {
          "base_uri": "https://localhost:8080/",
          "height": 36
        },
        "id": "PQumLpllHWzv",
        "outputId": "afaf1f33-568d-4899-d35b-45b274b79e15"
      },
      "execution_count": null,
      "outputs": [
        {
          "output_type": "execute_result",
          "data": {
            "text/plain": [
              "''"
            ],
            "application/vnd.google.colaboratory.intrinsic+json": {
              "type": "string"
            }
          },
          "metadata": {},
          "execution_count": 23
        }
      ]
    },
    {
      "cell_type": "code",
      "source": [
        "print(len(str1))"
      ],
      "metadata": {
        "colab": {
          "base_uri": "https://localhost:8080/"
        },
        "id": "WX6YZJ9CHquN",
        "outputId": "e9690ed0-78fd-45aa-f428-261344690d9a"
      },
      "execution_count": null,
      "outputs": [
        {
          "output_type": "stream",
          "name": "stdout",
          "text": [
            "22\n"
          ]
        }
      ]
    },
    {
      "cell_type": "code",
      "source": [
        "str1.lower()\n"
      ],
      "metadata": {
        "colab": {
          "base_uri": "https://localhost:8080/",
          "height": 36
        },
        "id": "jyBqfmYrHs84",
        "outputId": "976b2eb1-894d-4d64-b974-9ee0f266569a"
      },
      "execution_count": null,
      "outputs": [
        {
          "output_type": "execute_result",
          "data": {
            "text/plain": [
              "'this is a python class'"
            ],
            "application/vnd.google.colaboratory.intrinsic+json": {
              "type": "string"
            }
          },
          "metadata": {},
          "execution_count": 25
        }
      ]
    },
    {
      "cell_type": "code",
      "source": [
        "str1.upper()"
      ],
      "metadata": {
        "colab": {
          "base_uri": "https://localhost:8080/",
          "height": 36
        },
        "id": "nuxJ810EH2SG",
        "outputId": "6ec55e52-e9eb-4bd2-8b80-db29c0aad5fd"
      },
      "execution_count": null,
      "outputs": [
        {
          "output_type": "execute_result",
          "data": {
            "text/plain": [
              "'THIS IS A PYTHON CLASS'"
            ],
            "application/vnd.google.colaboratory.intrinsic+json": {
              "type": "string"
            }
          },
          "metadata": {},
          "execution_count": 26
        }
      ]
    },
    {
      "cell_type": "code",
      "source": [
        "list1 = str1.split(\" \")\n",
        "print(list1)"
      ],
      "metadata": {
        "colab": {
          "base_uri": "https://localhost:8080/"
        },
        "id": "9SYRC1fcH7Hu",
        "outputId": "62fdb162-76e1-4ea3-852b-f6da73d52540"
      },
      "execution_count": null,
      "outputs": [
        {
          "output_type": "stream",
          "name": "stdout",
          "text": [
            "['This', 'is', 'a', 'python', 'class']\n"
          ]
        }
      ]
    },
    {
      "cell_type": "code",
      "source": [
        "str3 = \" \".join(list1)\n",
        "print(str3)"
      ],
      "metadata": {
        "colab": {
          "base_uri": "https://localhost:8080/"
        },
        "id": "USqczxsZJOKc",
        "outputId": "443569b2-d8af-48b9-d294-f24df218d5d7"
      },
      "execution_count": null,
      "outputs": [
        {
          "output_type": "stream",
          "name": "stdout",
          "text": [
            "This is a python class\n"
          ]
        }
      ]
    },
    {
      "cell_type": "code",
      "source": [
        "# find function (or index function)\n",
        "# Returns the lowest (or highest for rfind() / rindex()) index where the substring is found in a string.\n",
        "# Optionally, you can specify start and end indices to search within a specific range.\n",
        "# Returns -1 if sub is not found.\n",
        "\n",
        "str1 = \"Hello hi this is abc hi Hello hi!\"\n",
        "str2 = \"hi\"\n",
        "str3 = \"1234\"\n",
        "\n",
        "print(str1.find(str2))\n",
        "print(str1.index(str2))\n",
        "\n",
        "print(str1.rfind(str2))\n",
        "print(str1.rindex(str2))\n",
        "\n",
        "print(str1.find(str2,8,32))\n",
        "print(str1.rfind(str2,8,32))\n",
        "\n",
        "print(str1.find(str3))"
      ],
      "metadata": {
        "id": "DDxhXB1AJaPM",
        "colab": {
          "base_uri": "https://localhost:8080/"
        },
        "outputId": "b15033ef-ad52-4f37-f8ba-fdcfa19d7775"
      },
      "execution_count": null,
      "outputs": [
        {
          "output_type": "stream",
          "name": "stdout",
          "text": [
            "6\n",
            "6\n",
            "30\n",
            "30\n",
            "10\n",
            "30\n",
            "-1\n"
          ]
        }
      ]
    },
    {
      "cell_type": "code",
      "source": [
        "list2 = ['12','12','2022']\n",
        "\n",
        "str4 = \"/\".join(list2)\n",
        "print(str4)"
      ],
      "metadata": {
        "id": "84bLuEEikwIN",
        "colab": {
          "base_uri": "https://localhost:8080/"
        },
        "outputId": "86429448-858b-40c3-b657-5c8b92fe880f"
      },
      "execution_count": null,
      "outputs": [
        {
          "output_type": "stream",
          "name": "stdout",
          "text": [
            "12/12/2022\n"
          ]
        }
      ]
    },
    {
      "cell_type": "code",
      "source": [
        "str5 = \"abdjABCDEFgsdfhs\"\n",
        "print(str5.isalpha())"
      ],
      "metadata": {
        "colab": {
          "base_uri": "https://localhost:8080/"
        },
        "id": "UxfG0IlPlAjI",
        "outputId": "ba8ed594-337e-48f5-a94b-62f876d334a7"
      },
      "execution_count": null,
      "outputs": [
        {
          "output_type": "stream",
          "name": "stdout",
          "text": [
            "True\n"
          ]
        }
      ]
    },
    {
      "cell_type": "code",
      "source": [
        "# For negative numbers, isdigit() and isnumeric() will return False because they are designed\n",
        "# to work with positive integers or numbers composed of digits.\n",
        "\n",
        "# isdecimal() ---- returns True only if the string contains numerical values strictly (0-9)\n",
        "# isdigit() ------ returns True if the string contains superscripts or digits (0-9) but doesnot accept fractional parts\n",
        "# isnumeric() ---- returns True if the string contains superscripts, fractional parts or digits (0-9)\n",
        "\n",
        "str1 = \"1234556\"\n",
        "print(str1.isnumeric())\n",
        "print(str1.isdigit())\n",
        "print(str1.isdecimal())\n",
        "print(\"\\n\")\n",
        "\n",
        "str2 = \"123¼½¾\"\n",
        "print(str2.isnumeric())\n",
        "print(str2.isdigit())\n",
        "print(str2.isdecimal())\n",
        "print(\"\\n\")\n",
        "\n",
        "str3 = \"23.4\"\n",
        "print(str3.isnumeric())\n",
        "print(str3.isdigit())\n",
        "print(str3.isdecimal())\n",
        "print(\"\\n\")\n",
        "\n",
        "str4 = \"-12345\"\n",
        "print(str4.isnumeric())\n",
        "print(str4.isdigit())\n",
        "print(str4.isdecimal())\n",
        "print(\"\\n\")\n",
        "\n",
        "str5 = \"123²³\"\n",
        "print(str5.isnumeric())\n",
        "print(str5.isdigit())\n",
        "print(str5.isdecimal())"
      ],
      "metadata": {
        "colab": {
          "base_uri": "https://localhost:8080/"
        },
        "id": "3h740ZhIlP4i",
        "outputId": "4b756985-f59b-466d-c44a-fce86f0400e6"
      },
      "execution_count": null,
      "outputs": [
        {
          "output_type": "stream",
          "name": "stdout",
          "text": [
            "True\n",
            "True\n",
            "True\n",
            "\n",
            "\n",
            "True\n",
            "False\n",
            "False\n",
            "\n",
            "\n",
            "False\n",
            "False\n",
            "False\n",
            "\n",
            "\n",
            "False\n",
            "False\n",
            "False\n",
            "\n",
            "\n",
            "True\n",
            "True\n",
            "False\n"
          ]
        }
      ]
    },
    {
      "cell_type": "code",
      "source": [
        "str7 = \"123fsfslkj123\"\n",
        "print(str7.isalnum())"
      ],
      "metadata": {
        "colab": {
          "base_uri": "https://localhost:8080/"
        },
        "id": "-LfD9isElXNb",
        "outputId": "8add0685-31ab-40e1-8f8c-383f5b44e4be"
      },
      "execution_count": null,
      "outputs": [
        {
          "output_type": "stream",
          "name": "stdout",
          "text": [
            "True\n"
          ]
        }
      ]
    },
    {
      "cell_type": "code",
      "source": [
        "# isupper():\n",
        "\n",
        "# Returns True if all alphabetic characters in the string are uppercase,\n",
        "# and the string contains at least one alphabetic character; otherwise, it returns False.\n",
        "\n",
        "string1 = \"HELLO\"\n",
        "string2 = \"Hello\"\n",
        "string3 = \"123\"\n",
        "string4 = \"H123\"\n",
        "string5 = \"123H\"\n",
        "string6 = \"h123\"\n",
        "string7 = \"123h\"\n",
        "\n",
        "print(string1.isupper())\n",
        "print(string2.isupper())\n",
        "print(string3.isupper())\n",
        "print(string4.isupper())\n",
        "print(string5.isupper())\n",
        "print(string6.isupper())\n",
        "print(string7.isupper())"
      ],
      "metadata": {
        "colab": {
          "base_uri": "https://localhost:8080/"
        },
        "id": "Ya134RZgliAi",
        "outputId": "8efa919a-0615-4dc0-eb8d-63fddb184e4a"
      },
      "execution_count": null,
      "outputs": [
        {
          "output_type": "stream",
          "name": "stdout",
          "text": [
            "True\n",
            "False\n",
            "False\n",
            "True\n",
            "True\n",
            "False\n",
            "False\n"
          ]
        }
      ]
    },
    {
      "cell_type": "code",
      "source": [
        "# islower():\n",
        "\n",
        "# Returns True if all alphabetic characters in the string are lowercase,\n",
        "# and the string contains at least one alphabetic character; otherwise, it returns False.\n",
        "\n",
        "string1 = \"hello\"\n",
        "string2 = \"Hello\"\n",
        "string3 = \"123\"\n",
        "string4 = \"H123\"\n",
        "string5 = \"123H\"\n",
        "string6 = \"h123\"\n",
        "string7 = \"123h\"\n",
        "\n",
        "print(string1.islower())\n",
        "print(string2.islower())\n",
        "print(string3.islower())\n",
        "print(string4.islower())\n",
        "print(string5.islower())\n",
        "print(string6.islower())\n",
        "print(string7.islower())"
      ],
      "metadata": {
        "colab": {
          "base_uri": "https://localhost:8080/"
        },
        "id": "4G2XaJJqlvHP",
        "outputId": "eb23eb77-5ada-4dc8-b378-02b19bf6db4b"
      },
      "execution_count": null,
      "outputs": [
        {
          "output_type": "stream",
          "name": "stdout",
          "text": [
            "True\n",
            "False\n",
            "False\n",
            "False\n",
            "False\n",
            "True\n",
            "True\n"
          ]
        }
      ]
    },
    {
      "cell_type": "code",
      "source": [
        "string1 = \"abcdefghijklmnopqrstuvwxyz\"\n",
        "string2 = string1.upper()\n",
        "string3 = \"0123456789\"\n",
        "string4 = \";:@#$%&^*\"\n",
        "\n",
        "# Getting input\n",
        "a = input(\"Enter the password:\")\n",
        "\n",
        "flag1 = flag2 = flag3 = flag4 = False\n",
        "\n",
        "for i in a:\n",
        "    if i in string1:\n",
        "        flag1 = True\n",
        "    elif i in string2:\n",
        "        flag2 = True\n",
        "    elif i in string3:\n",
        "        flag3 = True\n",
        "    elif i in string4:\n",
        "        flag4 = True\n",
        "    else:\n",
        "        pass\n",
        "\n",
        "\n",
        "\n",
        "if (flag1==True) and (flag2==True) and (flag3==True) and (flag4==True):\n",
        "    print(\"Valid password\")\n",
        "else:\n",
        "    print(\"Invalid password\")\n"
      ],
      "metadata": {
        "colab": {
          "base_uri": "https://localhost:8080/"
        },
        "id": "OqhC3nZVlzC6",
        "outputId": "720869cf-43b5-4cfe-ddf4-804d340c5b86"
      },
      "execution_count": null,
      "outputs": [
        {
          "output_type": "stream",
          "name": "stdout",
          "text": [
            "Enter the password:anjana\n",
            "Invalid password\n"
          ]
        }
      ]
    },
    {
      "cell_type": "code",
      "source": [
        "# istitle():\n",
        "\n",
        "# Returns True if the string is titlecased (i.e., the first character of each word is uppercase\n",
        "# and all other characters are lowercase); otherwise, it returns False.\n",
        "\n",
        "string1 = \"Hello Class\"\n",
        "string2 = \"Hello class\"\n",
        "string3 = \"123 class\"\n",
        "string4 = \"123 Class\"\n",
        "string5 = \"123\"\n",
        "string6 = \"ABC\"\n",
        "string7 = \"ABcdef\"\n",
        "\n",
        "print(string1.istitle())\n",
        "print(string2.istitle())\n",
        "print(string3.istitle())\n",
        "print(string4.istitle())\n",
        "print(string5.istitle())\n",
        "print(string6.istitle())\n",
        "print(string7.istitle())"
      ],
      "metadata": {
        "colab": {
          "base_uri": "https://localhost:8080/"
        },
        "id": "AGZh7tlPmNVv",
        "outputId": "ee311d1f-014a-4e08-c048-579b8629db1e"
      },
      "execution_count": null,
      "outputs": [
        {
          "output_type": "stream",
          "name": "stdout",
          "text": [
            "True\n",
            "False\n",
            "False\n",
            "True\n",
            "False\n",
            "False\n",
            "False\n"
          ]
        }
      ]
    },
    {
      "cell_type": "code",
      "source": [
        "# isspace():\n",
        "\n",
        "# Returns True if all characters in the string are whitespace characters\n",
        "# (e.g., space, tab, newline); otherwise, it returns False.\n",
        "\n",
        "string1 = \"   \"\n",
        "string2 = \"Hello Class\"\n",
        "string3 = \"\\t\\t\\n\"\n",
        "\n",
        "print(string1.isspace())\n",
        "print(string2.isspace())\n",
        "print(string3.isspace())"
      ],
      "metadata": {
        "colab": {
          "base_uri": "https://localhost:8080/"
        },
        "id": "GyHZEAMFmZp9",
        "outputId": "0e4c8ae0-536b-4688-c0be-618f86ac0da4"
      },
      "execution_count": null,
      "outputs": [
        {
          "output_type": "stream",
          "name": "stdout",
          "text": [
            "True\n",
            "False\n",
            "True\n"
          ]
        }
      ]
    },
    {
      "cell_type": "code",
      "source": [
        "# Colors selection\n",
        "\n",
        "input_val = input(\"Enter the colours:\")\n",
        "\n",
        "list_1 = input_val.split(\" \")\n",
        "print(list_1)\n",
        "\n",
        "if \"Black\" in list_1 and \"White\" in list_1:\n",
        "    print(\"True\")\n",
        "else:\n",
        "    print(\"False\")"
      ],
      "metadata": {
        "colab": {
          "base_uri": "https://localhost:8080/"
        },
        "id": "VzkRzpprmjPZ",
        "outputId": "175343cc-d3c5-44cc-ec56-f5b283c7869d"
      },
      "execution_count": null,
      "outputs": [
        {
          "output_type": "stream",
          "name": "stdout",
          "text": [
            "Enter the colours:Black White Red Yellow Blue\n",
            "['Black', 'White', 'Red', 'Yellow', 'Blue']\n",
            "True\n"
          ]
        }
      ]
    },
    {
      "cell_type": "code",
      "source": [
        "# strip():\n",
        "# Removes leading and trailing whitespace (or specific characters) from a string.\n",
        "print(\"      hello     \")\n",
        "print(\"      hello     \".strip())"
      ],
      "metadata": {
        "colab": {
          "base_uri": "https://localhost:8080/"
        },
        "id": "nKIkYJMrm4Zm",
        "outputId": "4786b670-7a5b-4370-9b28-881cc5b2891a"
      },
      "execution_count": null,
      "outputs": [
        {
          "output_type": "stream",
          "name": "stdout",
          "text": [
            "      hello     \n",
            "hello\n"
          ]
        }
      ]
    },
    {
      "cell_type": "code",
      "source": [
        "string = \"!---Hello!, Class!---\"\n",
        "stripped_string = string.strip(\"!-\")\n",
        "print(stripped_string)"
      ],
      "metadata": {
        "colab": {
          "base_uri": "https://localhost:8080/"
        },
        "id": "EJ_2vKrxnJF3",
        "outputId": "3565ed17-ab29-4410-e8c0-2e24ee80a7fe"
      },
      "execution_count": null,
      "outputs": [
        {
          "output_type": "stream",
          "name": "stdout",
          "text": [
            "Hello!, Class\n"
          ]
        }
      ]
    },
    {
      "cell_type": "code",
      "source": [
        "string = \"-------Hello, Class!--------\"\n",
        "left_stripped_string = string.lstrip(\"-\")\n",
        "print(left_stripped_string)"
      ],
      "metadata": {
        "colab": {
          "base_uri": "https://localhost:8080/"
        },
        "id": "se-lTg_8nNon",
        "outputId": "08b9175a-b87e-4a03-a3d9-bf3173df086f"
      },
      "execution_count": null,
      "outputs": [
        {
          "output_type": "stream",
          "name": "stdout",
          "text": [
            "Hello, Class!--------\n"
          ]
        }
      ]
    },
    {
      "cell_type": "code",
      "source": [
        "string = \"-------Hello, Class!--------\"\n",
        "right_stripped_string = string.rstrip(\"-\")\n",
        "print(right_stripped_string)"
      ],
      "metadata": {
        "colab": {
          "base_uri": "https://localhost:8080/"
        },
        "id": "rxFum8TjnakA",
        "outputId": "dc78ef98-cf97-4890-bb22-8451b2a647f1"
      },
      "execution_count": null,
      "outputs": [
        {
          "output_type": "stream",
          "name": "stdout",
          "text": [
            "-------Hello, Class!\n"
          ]
        }
      ]
    },
    {
      "cell_type": "code",
      "source": [
        "# capitalize():\n",
        "\n",
        "# Capitalizes the first character of a string.\n",
        "\n",
        "str_capitalize = \"hi hello how are you\"\n",
        "str_2 = \"123456\"\n",
        "str_3 = \"123abc defghi\"\n",
        "str_4 = \"abc 123defghi\"\n",
        "print(str_capitalize.capitalize())\n",
        "print(str_2.capitalize())\n",
        "print(str_3.capitalize())\n",
        "print(str_4.capitalize())"
      ],
      "metadata": {
        "colab": {
          "base_uri": "https://localhost:8080/"
        },
        "id": "eN9gISJunhZ3",
        "outputId": "ebce8baf-f197-44fc-c2f3-372fe75a0413"
      },
      "execution_count": null,
      "outputs": [
        {
          "output_type": "stream",
          "name": "stdout",
          "text": [
            "Hi hello how are you\n",
            "123456\n",
            "123abc defghi\n",
            "Abc 123defghi\n"
          ]
        }
      ]
    },
    {
      "cell_type": "code",
      "source": [
        "# title():\n",
        "\n",
        "# Capitalizes the first alphabet of each word in a string.\n",
        "\n",
        "print(str_capitalize.title())\n",
        "print(str_2.title())\n",
        "print(str_3.title())\n",
        "print(str_4.title())"
      ],
      "metadata": {
        "colab": {
          "base_uri": "https://localhost:8080/"
        },
        "id": "5aLb79NgnomF",
        "outputId": "3ff7d806-b9d1-4158-8af2-81d9df63fac2"
      },
      "execution_count": null,
      "outputs": [
        {
          "output_type": "stream",
          "name": "stdout",
          "text": [
            "Hi Hello How Are You\n",
            "123456\n",
            "123Abc Defghi\n",
            "Abc 123Defghi\n"
          ]
        }
      ]
    },
    {
      "cell_type": "code",
      "source": [
        "# replace()\n",
        "\n",
        "# Replaces occurrences of a substring old with new in a string.\n",
        "\n",
        "# Optionally, you can specify a count parameter to limit the number of replacements.\n",
        "\n",
        "string = \"She sells sea shells by the sea shore. She sells sea shells.\"\n",
        "new_string1 = string.replace(\"sea\", \"ocean\")\n",
        "print(new_string1)\n",
        "new_string2 = string.replace(\"sea\", \"ocean\", 2)\n",
        "print(new_string2)"
      ],
      "metadata": {
        "colab": {
          "base_uri": "https://localhost:8080/"
        },
        "id": "_pYtRRhunv_F",
        "outputId": "7e55475e-dda1-4960-dc4d-655134879d97"
      },
      "execution_count": null,
      "outputs": [
        {
          "output_type": "stream",
          "name": "stdout",
          "text": [
            "She sells ocean shells by the ocean shore. She sells ocean shells.\n",
            "She sells ocean shells by the ocean shore. She sells sea shells.\n"
          ]
        }
      ]
    },
    {
      "cell_type": "code",
      "source": [
        "# startswith(), endswith()\n",
        "\n",
        "# Returns True if the string starts or ends with the specified prefix or suffix respectively; otherwise, returns False.\n",
        "\n",
        "# Optionally, you can specify start and end indices to search within a specific range.\n",
        "\n",
        "string = \"Hello, This is a python class!\"\n",
        "\n",
        "if string.startswith(\"Hello\"):\n",
        "    print(\"The string starts with 'Hello'\")\n",
        "else:\n",
        "    print(\"The string does not start with 'Hello'\")\n",
        "\n",
        "print(string.startswith(\"Hello\"))"
      ],
      "metadata": {
        "colab": {
          "base_uri": "https://localhost:8080/"
        },
        "id": "-tNJO-TVoUxz",
        "outputId": "8e7ed091-f256-4bdb-e1b0-16e393d5b13a"
      },
      "execution_count": null,
      "outputs": [
        {
          "output_type": "stream",
          "name": "stdout",
          "text": [
            "The string starts with 'Hello'\n",
            "True\n"
          ]
        }
      ]
    },
    {
      "cell_type": "code",
      "source": [
        "if string.endswith(\"Class!\"):\n",
        "    print(\"The string ends with 'Class!'\")\n",
        "else:\n",
        "    print(\"The string does not end with 'Class!'\")\n",
        "\n",
        "print(string.endswith(\"Class!\"))"
      ],
      "metadata": {
        "colab": {
          "base_uri": "https://localhost:8080/"
        },
        "id": "hqfBTkhQoeQ8",
        "outputId": "30faa932-f45e-49b1-cee8-c9affc947e04"
      },
      "execution_count": null,
      "outputs": [
        {
          "output_type": "stream",
          "name": "stdout",
          "text": [
            "The string does not end with 'Class!'\n",
            "False\n"
          ]
        }
      ]
    },
    {
      "cell_type": "code",
      "source": [
        "# Escape sequencing\n",
        "\n",
        "# Using double quotes in the string is not allowed.\n",
        "mystr = \"My favourite TV Series is \"Game of Thrones\"\""
      ],
      "metadata": {
        "colab": {
          "base_uri": "https://localhost:8080/",
          "height": 110
        },
        "id": "lfoCT8Rlorys",
        "outputId": "003762e6-dd75-4377-bb88-2c00100cd79d"
      },
      "execution_count": null,
      "outputs": [
        {
          "output_type": "error",
          "ename": "SyntaxError",
          "evalue": "invalid syntax (<ipython-input-21-62cdaa07f85c>, line 4)",
          "traceback": [
            "\u001b[0;36m  File \u001b[0;32m\"<ipython-input-21-62cdaa07f85c>\"\u001b[0;36m, line \u001b[0;32m4\u001b[0m\n\u001b[0;31m    mystr = \"My favourite TV Series is \"Game of Thrones\"\"\u001b[0m\n\u001b[0m                                        ^\u001b[0m\n\u001b[0;31mSyntaxError\u001b[0m\u001b[0;31m:\u001b[0m invalid syntax\n"
          ]
        }
      ]
    },
    {
      "cell_type": "code",
      "source": [
        "mystr = \"My favourite TV Series is \\\"Game of Thrones\\\"\"\n",
        "print(mystr)"
      ],
      "metadata": {
        "colab": {
          "base_uri": "https://localhost:8080/"
        },
        "id": "0TK8bG5Lou11",
        "outputId": "40165a86-ef82-4c81-b8e4-ec2593ca9b9f"
      },
      "execution_count": null,
      "outputs": [
        {
          "output_type": "stream",
          "name": "stdout",
          "text": [
            "My favourite TV Series is \"Game of Thrones\"\n"
          ]
        }
      ]
    },
    {
      "cell_type": "code",
      "source": [
        "mystr = \"My favourite TV Series is \\n\\\"Game of Thrones\\\"\"\n",
        "print(mystr)"
      ],
      "metadata": {
        "id": "hrVO9PZso38f"
      },
      "execution_count": null,
      "outputs": []
    },
    {
      "cell_type": "code",
      "source": [
        "mystr = \"My favourite TV Series is \\t\\\"Game of Thrones\\\"\"\n",
        "print(mystr)"
      ],
      "metadata": {
        "id": "aAS7N6Xto5PW"
      },
      "execution_count": null,
      "outputs": []
    },
    {
      "cell_type": "code",
      "source": [
        "mystr = \"My favourite TV Series \\\\n is \\\"Game of Thrones\\\"\"\n",
        "print(mystr)"
      ],
      "metadata": {
        "id": "F1SdzV0eo8n9",
        "colab": {
          "base_uri": "https://localhost:8080/"
        },
        "outputId": "f317d69a-9cf2-411f-8fdb-3f9eb55e0d7e"
      },
      "execution_count": null,
      "outputs": [
        {
          "output_type": "stream",
          "name": "stdout",
          "text": [
            "My favourite TV Series \\n is \"Game of Thrones\"\n"
          ]
        }
      ]
    },
    {
      "cell_type": "code",
      "source": [
        "# String enumerate\n",
        "\n",
        "str1 = \"ACDEFGHIJ\"\n",
        "for i,j in enumerate(str1):\n",
        "    print(\"Index : \",i)\n",
        "    print(\"Value : \",j)"
      ],
      "metadata": {
        "colab": {
          "base_uri": "https://localhost:8080/"
        },
        "id": "hHpHfcVHpC1X",
        "outputId": "f62073ea-6f1b-45de-c02a-57ac53dd809d"
      },
      "execution_count": null,
      "outputs": [
        {
          "output_type": "stream",
          "name": "stdout",
          "text": [
            "Index :  0\n",
            "Value :  A\n",
            "Index :  1\n",
            "Value :  C\n",
            "Index :  2\n",
            "Value :  D\n",
            "Index :  3\n",
            "Value :  E\n",
            "Index :  4\n",
            "Value :  F\n",
            "Index :  5\n",
            "Value :  G\n",
            "Index :  6\n",
            "Value :  H\n",
            "Index :  7\n",
            "Value :  I\n",
            "Index :  8\n",
            "Value :  J\n"
          ]
        }
      ]
    },
    {
      "cell_type": "code",
      "source": [
        "# String formatting is the process of infusing things in the string dynamically and\n",
        "# presenting the string. There are four different ways to perform string formatting:\n",
        "\n",
        "# Formatting with % Operator.\n",
        "# Formatting with format() string method.\n",
        "# Formatting with string literals, called f-strings.\n",
        "# Formatting with String Template Class\n",
        "\n",
        "# All of these methods provide ways to dynamically insert values into strings."
      ],
      "metadata": {
        "id": "V5v0WCA4qxvQ"
      },
      "execution_count": null,
      "outputs": []
    },
    {
      "cell_type": "code",
      "source": [
        "# Formatting with % Operator:\n",
        "\n",
        "# The % operator allows you to insert values into a string using placeholders.\n",
        "# The placeholders are represented by % followed by a format specifier.\n",
        "\n",
        "name = \"ABCD\"\n",
        "age = 30\n",
        "formatted_string = \"My name is %s and I am %d years old.\" % (name, age)\n",
        "print(formatted_string)"
      ],
      "metadata": {
        "id": "CWZyG3Anq_u4"
      },
      "execution_count": null,
      "outputs": []
    },
    {
      "cell_type": "code",
      "source": [
        "'''\n",
        "Floating-point numbers:\n",
        "\n",
        "%f - Floating point numbers (e.g., 3.14, 2.71828).\n",
        "%e - Exponential notation (e.g., 3.14e+00, 2.72e+00).\n",
        "%g - General format (either fixed-point format or exponential notation, depending on the value) for floating-point numbers.\n",
        "\n",
        "Other integer types:\n",
        "\n",
        "%x - Hexadecimal format (lowercase) for integers.\n",
        "%X - Hexadecimal format (uppercase) for integers.\n",
        "%o - Octal format for integers.\n",
        "\n",
        "String representations:\n",
        "\n",
        "%r - String representation (similar to repr()).\n",
        "%c - Single character (accepts integer or single-character string).\n",
        "\n",
        "Width and Precision:\n",
        "\n",
        "%Ns: This specifies a string with a minimum width of N characters. If the string is less than N characters, it will be padded with spaces to the right.\n",
        "%Nd: This specifies an integer with a minimum width of N digits. If the integer has fewer than N digits, it will be padded with leading spaces.\n",
        "%.Nf: This specifies a floating-point number with N digits after the decimal point.\n",
        "Padding and Alignment:\n",
        "\n",
        "%Ns: This specifies a right-justified string with a minimum width of N characters. If the string is less than N characters, it will be padded with spaces to the left.\n",
        "%-Ns: This specifies a left-justified string with a minimum width of N characters. If the string is less than N characters, it will be padded with spaces to the right.\n",
        "%Nd: This specifies a right-justified integer with a minimum width of N digits. If the integer has fewer than N digits, it will be padded with leading spaces.\n",
        "%-Nd: This specifies a left-justified integer with a minimum width of N digits. If the integer has fewer than N digits, it will be padded with trailing spaces.\n",
        "%N.Mf: This specifies a floating-point number with a minimum width of N characters and M digits after the decimal point. If necessary, it will be padded with leading spaces.\n",
        "\n",
        "Miscellaneous:\n",
        "\n",
        "%% - Literal % character (used to escape %).\n",
        "'''"
      ],
      "metadata": {
        "id": "wLGvAgPkrHf-"
      },
      "execution_count": null,
      "outputs": []
    },
    {
      "cell_type": "code",
      "source": [
        "pi = 3.14159234\n",
        "formatted_string = \"The value of pi is approximately: %f\" % pi\n",
        "formatted_string1 = \"The value of pi is approximately: %.4f\" % pi\n",
        "formatted_string2 = \"The value of pi is approximately: %10.2f\" % pi\n",
        "\n",
        "print(formatted_string)\n",
        "print(formatted_string1)\n",
        "print(formatted_string2)"
      ],
      "metadata": {
        "id": "8XZauYu9rLti"
      },
      "execution_count": null,
      "outputs": []
    },
    {
      "cell_type": "code",
      "source": [
        "number = 200\n",
        "formatted_string = \"The hexadecimal representation of 255 is: %X\" % number\n",
        "print(formatted_string)"
      ],
      "metadata": {
        "colab": {
          "base_uri": "https://localhost:8080/"
        },
        "id": "yw1a3FHHrXBn",
        "outputId": "a0219c4a-dca1-4880-d060-44f23f6a83cb"
      },
      "execution_count": null,
      "outputs": [
        {
          "output_type": "stream",
          "name": "stdout",
          "text": [
            "The hexadecimal representation of 255 is: C8\n"
          ]
        }
      ]
    },
    {
      "cell_type": "code",
      "source": [
        "text = \"Hello, World!\"\n",
        "formatted_string = \"The string representation of %s is: %r\" % (text, text)\n",
        "print(formatted_string)"
      ],
      "metadata": {
        "colab": {
          "base_uri": "https://localhost:8080/"
        },
        "id": "QWM4bZpfrfOB",
        "outputId": "b1f9a2ee-7274-4549-9e4e-5a98ddc9146f"
      },
      "execution_count": null,
      "outputs": [
        {
          "output_type": "stream",
          "name": "stdout",
          "text": [
            "The string representation of Hello, World! is: 'Hello, World!'\n"
          ]
        }
      ]
    },
    {
      "cell_type": "code",
      "source": [
        "# %g works for only numerical values\n",
        "\n",
        "a = 123.34\n",
        "print(\"Floating point value is %g\" % a)\n",
        "text = \"Hello, World!\"\n"
      ],
      "metadata": {
        "colab": {
          "base_uri": "https://localhost:8080/"
        },
        "id": "1TDCtgAtroQe",
        "outputId": "4b745ddc-e9cc-40e6-a8c7-0f1c9346a83b"
      },
      "execution_count": null,
      "outputs": [
        {
          "output_type": "stream",
          "name": "stdout",
          "text": [
            "Floating point value is 123.34\n"
          ]
        }
      ]
    },
    {
      "cell_type": "code",
      "source": [
        "formatted_string = \"The string is %g\" % text\n",
        "print(formatted_string)"
      ],
      "metadata": {
        "colab": {
          "base_uri": "https://localhost:8080/",
          "height": 165
        },
        "id": "kSY-SsT9Qwy7",
        "outputId": "125b7c0f-8b62-4120-aff9-2f2f54718680"
      },
      "execution_count": null,
      "outputs": [
        {
          "output_type": "error",
          "ename": "TypeError",
          "evalue": "must be real number, not str",
          "traceback": [
            "\u001b[0;31m---------------------------------------------------------------------------\u001b[0m",
            "\u001b[0;31mTypeError\u001b[0m                                 Traceback (most recent call last)",
            "\u001b[0;32m<ipython-input-6-fd6ab6526dc5>\u001b[0m in \u001b[0;36m<cell line: 1>\u001b[0;34m()\u001b[0m\n\u001b[0;32m----> 1\u001b[0;31m \u001b[0mformatted_string\u001b[0m \u001b[0;34m=\u001b[0m \u001b[0;34m\"The string is %g\"\u001b[0m \u001b[0;34m%\u001b[0m \u001b[0mtext\u001b[0m\u001b[0;34m\u001b[0m\u001b[0;34m\u001b[0m\u001b[0m\n\u001b[0m\u001b[1;32m      2\u001b[0m \u001b[0mprint\u001b[0m\u001b[0;34m(\u001b[0m\u001b[0mformatted_string\u001b[0m\u001b[0;34m)\u001b[0m\u001b[0;34m\u001b[0m\u001b[0;34m\u001b[0m\u001b[0m\n",
            "\u001b[0;31mTypeError\u001b[0m: must be real number, not str"
          ]
        }
      ]
    },
    {
      "cell_type": "code",
      "source": [
        "name = \"John\"\n",
        "formatted_string = \"Hello, %10s!\" % name\n",
        "print(formatted_string)"
      ],
      "metadata": {
        "id": "GZOS5fSjrwi3"
      },
      "execution_count": null,
      "outputs": []
    },
    {
      "cell_type": "code",
      "source": [
        "# Floating-point number with minimum width of 10 characters and 2 digits after the decimal point\n",
        "num = 3.14159\n",
        "print(\"%10.2f\" % num)\n",
        "\n",
        "# Floating-point number with minimum width of 8 characters and 3 digits after the decimal point\n",
        "num = 123.456789\n",
        "print(\"%8.3f\" % num)\n",
        "print(\"%2.3f\" % num)\n",
        "\n",
        "# Floating-point number with minimum width of 6 characters and 1 digit after the decimal point\n",
        "num = 7.5\n",
        "print(\"%6.1f\" % num)"
      ],
      "metadata": {
        "id": "i9JLzpngrzfK"
      },
      "execution_count": null,
      "outputs": []
    },
    {
      "cell_type": "code",
      "source": [
        "# Formatting with format() string method:\n",
        "\n",
        "# The format() method allows for more flexibility in formatting strings.\n",
        "# You can use placeholders within curly braces {} and\n",
        "# call the format() method on the string to replace them with corresponding values.\n",
        "name = \"John\"\n",
        "age = 12\n",
        "formatted_string = \"My name is {} and I am {} years old.\".format(name, age)\n",
        "print(formatted_string)"
      ],
      "metadata": {
        "colab": {
          "base_uri": "https://localhost:8080/"
        },
        "id": "9wdElkvUr9ib",
        "outputId": "6cb33ac3-5586-47ee-f659-a29e490ed1d1"
      },
      "execution_count": null,
      "outputs": [
        {
          "output_type": "stream",
          "name": "stdout",
          "text": [
            "My name is John and I am 12 years old.\n"
          ]
        }
      ]
    },
    {
      "cell_type": "code",
      "source": [
        "# Formatting with string literals, called f-strings:\n",
        "\n",
        "# f-strings provide a more concise and readable way to format strings in Python.\n",
        "# You can directly insert variables and expressions within curly braces {} in the string itself.\n",
        "name = \"John\"\n",
        "age = \"12\"\n",
        "formatted_string = f\"My name is {name} and I am {age} years old.\"\n",
        "print(formatted_string)"
      ],
      "metadata": {
        "id": "OILuewlysDI6"
      },
      "execution_count": null,
      "outputs": []
    },
    {
      "cell_type": "code",
      "source": [
        "# Formatting with String Template Class:\n",
        "\n",
        "# The string.Template class provides another method for string formatting.\n",
        "# It uses placeholders identified by dollar signs $.\n",
        "\n",
        "from string import Template\n",
        "n = \"John\"\n",
        "a = 12\n",
        "template = Template(\"My name is $name and I am $age years old.\")\n",
        "formatted_string = template.substitute(name=n, age=a)\n",
        "print(formatted_string)"
      ],
      "metadata": {
        "colab": {
          "base_uri": "https://localhost:8080/"
        },
        "id": "WZrGduqcsGuo",
        "outputId": "3cc641f1-835e-4293-b022-f5db48ef8bd6"
      },
      "execution_count": null,
      "outputs": [
        {
          "output_type": "stream",
          "name": "stdout",
          "text": [
            "My name is John and I am 12 years old.\n"
          ]
        }
      ]
    },
    {
      "cell_type": "code",
      "source": [
        "# Entering multiple lines of string\n",
        "\n",
        "str1 = \"Hello how are you? I am good! This is an example of entering multiple lines in string with double quotes.\"\n",
        "print(str1)\n",
        "\n",
        "string = \"\"\"Hello how are you?\n",
        "I am good!\n",
        "This is an example of entering multiple lines in string with double quotes.\"\"\"\n",
        "print(string)\n",
        "\n",
        "string = '''Hello how are you?\n",
        "I am good!\n",
        "This is an example of entering multiple lines in string with single quotes.'''\n",
        "print(string)"
      ],
      "metadata": {
        "id": "WLgJ4Q6osL-0"
      },
      "execution_count": null,
      "outputs": []
    },
    {
      "cell_type": "code",
      "source": [
        "string = \"Hello how are you? \\nI am good! \\nThis is an example of entering multiple lines in string with double quotes.\"\n",
        "print(string)"
      ],
      "metadata": {
        "colab": {
          "base_uri": "https://localhost:8080/"
        },
        "id": "NDbVGBbSsUXf",
        "outputId": "8d3a0045-7241-4da9-aa70-28850f9c8df6"
      },
      "execution_count": null,
      "outputs": [
        {
          "output_type": "stream",
          "name": "stdout",
          "text": [
            "Hello how are you? \n",
            "I am good! \n",
            "This is an example of entering multiple lines in string with double quotes.\n"
          ]
        }
      ]
    },
    {
      "cell_type": "code",
      "source": [
        "\"\"\"\n",
        "The partition() method searches for a specified string and splits the string into 3 elements and returns as a tuple.\n",
        " - The first element contains the part before the argument string.\n",
        " - The second element contains the argument string.\n",
        " - The third element contains the part after the argument string.\n",
        "\"\"\"\n",
        "str5 = \"I am going to but apple and orange and grapes.\"\n",
        "L = str5.partition(\"and\")\n",
        "print(L)\n",
        "print(type(L))"
      ],
      "metadata": {
        "colab": {
          "base_uri": "https://localhost:8080/"
        },
        "id": "zu1Cnjvqsctr",
        "outputId": "40bd1abc-e74a-453d-c848-2c56bd544981"
      },
      "execution_count": null,
      "outputs": [
        {
          "output_type": "stream",
          "name": "stdout",
          "text": [
            "('I am going to but apple ', 'and', ' orange and grapes.')\n",
            "<class 'tuple'>\n"
          ]
        }
      ]
    },
    {
      "cell_type": "code",
      "source": [
        "\"\"\"\n",
        "The rpartition() method searches for the last occurence of the specified string and returns three elements as a tuple.\n",
        " - The first element contains the part before the argument string.\n",
        " - The second element contains the argument string.\n",
        " - The third element contains the part after the argument string.\n",
        "\"\"\"\n",
        "str5 = \"I am going to buy apple and orange and grapes.\"\n",
        "L = str5.rpartition(\"and\")\n",
        "print(L)\n",
        "print(type(L))"
      ],
      "metadata": {
        "colab": {
          "base_uri": "https://localhost:8080/"
        },
        "id": "fvEn5VttstKH",
        "outputId": "601dcb09-95ed-45e9-9b60-9460ed4c10de"
      },
      "execution_count": null,
      "outputs": [
        {
          "output_type": "stream",
          "name": "stdout",
          "text": [
            "('I am going to buy apple and orange ', 'and', ' grapes.')\n",
            "<class 'tuple'>\n"
          ]
        }
      ]
    },
    {
      "cell_type": "markdown",
      "source": [
        "**Concatenation of Strings:**\n",
        "\n",
        "String concatenation is combining multiple strings into one."
      ],
      "metadata": {
        "id": "ISxtSAOw67yJ"
      }
    },
    {
      "cell_type": "code",
      "source": [
        "str1 = \"Hello\"\n",
        "str2 = \"World\"\n",
        "concatenated_string = str1 + \", \" + str2 + \"!\"\n",
        "print(concatenated_string)  # Output: 'Hello, World!'\n"
      ],
      "metadata": {
        "colab": {
          "base_uri": "https://localhost:8080/"
        },
        "id": "_1dKdUnB6-5B",
        "outputId": "0ca016f0-ea88-4d87-d8c4-7babcd5a51ff"
      },
      "execution_count": null,
      "outputs": [
        {
          "output_type": "stream",
          "name": "stdout",
          "text": [
            "Hello, World!\n"
          ]
        }
      ]
    },
    {
      "cell_type": "markdown",
      "source": [
        "**Logical Operators in Strings:**\n",
        "\n",
        "Logical operators (and, or, not) can be used with strings to evaluate conditions."
      ],
      "metadata": {
        "id": "mQ6UfQKH7KKa"
      }
    },
    {
      "cell_type": "code",
      "source": [
        "str1 = \"Hello\"\n",
        "str2 = \"World\"\n",
        "print(str1 == \"Hello\" and str2 == \"World\")  # Output: True\n"
      ],
      "metadata": {
        "colab": {
          "base_uri": "https://localhost:8080/"
        },
        "id": "W0z6tIMz7WKI",
        "outputId": "abc1ca5f-5636-4ab2-978e-bdc620d8e801"
      },
      "execution_count": null,
      "outputs": [
        {
          "output_type": "stream",
          "name": "stdout",
          "text": [
            "True\n"
          ]
        }
      ]
    },
    {
      "cell_type": "code",
      "source": [
        "str1 = \"Helo\"\n",
        "str2 = \"World\"\n",
        "print(str1 == \"Hello\" or str2 == \"World\")"
      ],
      "metadata": {
        "id": "Qd2pWe2XkKWd",
        "colab": {
          "base_uri": "https://localhost:8080/"
        },
        "outputId": "d7f2b6ee-a5a4-4baa-e0e2-2a192696429a"
      },
      "execution_count": null,
      "outputs": [
        {
          "output_type": "stream",
          "name": "stdout",
          "text": [
            "True\n"
          ]
        }
      ]
    },
    {
      "cell_type": "code",
      "source": [
        "str1 = \"Hello\"\n",
        "print (not str1== \"Hello\")  # Output: True\n"
      ],
      "metadata": {
        "colab": {
          "base_uri": "https://localhost:8080/"
        },
        "id": "CLsypO5gTISE",
        "outputId": "6b61348b-ca3f-42b8-c81e-63b97047fa90"
      },
      "execution_count": null,
      "outputs": [
        {
          "output_type": "stream",
          "name": "stdout",
          "text": [
            "False\n"
          ]
        }
      ]
    },
    {
      "cell_type": "markdown",
      "source": [
        "* **Task 1: Count Words in a Sentence**\n",
        "\n",
        "Write a function that counts the number of words in a given sentence.\n",
        "\n",
        "* **Task 2: Count Vowels in a String**\n",
        "\n",
        "Write a function that takes a string as input and counts the number of vowels (a, e, i, o, u) in the string.\n",
        "\n",
        "* **Task 3: Check for Palindrome**\n",
        "\n",
        "Write a function that checks whether a given string is a palindrome (reads the same backward as forward).\n",
        "\n",
        "* **Task 4: Sum of Numbers**\n",
        "\n",
        "Write a program that calculates the sum of all numbers from 1 to a user-specified number using a for loop.\n",
        "\n",
        "* **Task 5: Even Numbers Using While Loop**\n",
        "\n",
        "Write a program that prints all even numbers between 1 and 20 (inclusive) using a while loop."
      ],
      "metadata": {
        "id": "_Iz1t8ADY1fJ"
      }
    },
    {
      "cell_type": "markdown",
      "source": [],
      "metadata": {
        "id": "jFOKcRj5bq_B"
      }
    }
  ]
}